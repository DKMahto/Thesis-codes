{
 "cells": [
  {
   "cell_type": "code",
   "execution_count": 2,
   "id": "24037208",
   "metadata": {},
   "outputs": [],
   "source": [
    "import pypsa\n",
    "import pandas as pd\n",
    "import numpy as np\n",
    "import matplotlib.pyplot as plt\n",
    "import seaborn as sns\n",
    "plt.style.use(\"bmh\")\n",
    "%matplotlib inline"
   ]
  },
  {
   "cell_type": "markdown",
   "id": "570162a4",
   "metadata": {},
   "source": [
    "**Senstivity analysis 1 - Conventional Resources Elimination**"
   ]
  },
  {
   "cell_type": "code",
   "execution_count": 3,
   "id": "b3787d3a",
   "metadata": {},
   "outputs": [
    {
     "name": "stderr",
     "output_type": "stream",
     "text": [
      "WARNING:pypsa.io:Importing network from PyPSA version v0.25.2 while current version is v0.26.0. Read the release notes at https://pypsa.readthedocs.io/en/latest/release_notes.html to prepare your network for import.\n",
      "INFO:pypsa.io:Imported network elec_s_37_ec_lv1.25_Co2L0-2H-EQ0.8c-MDES+c1-mdes+c3-mdes+e0.7.nc has buses, carriers, generators, global_constraints, lines, links, loads, storage_units, stores\n"
     ]
    }
   ],
   "source": [
    "n1 = pypsa.Network(\"capacity/elec_s_37_ec_lv1.25_Co2L0-2H-EQ0.8c-MDES+c1-mdes+c3-mdes+e0.7.nc\")"
   ]
  },
  {
   "cell_type": "code",
   "execution_count": 4,
   "id": "c9a594c6",
   "metadata": {},
   "outputs": [
    {
     "data": {
      "text/plain": [
       "67.07854407286584"
      ]
     },
     "execution_count": 4,
     "metadata": {},
     "output_type": "execute_result"
    }
   ],
   "source": [
    "n1.objective/1e9"
   ]
  },
  {
   "cell_type": "code",
   "execution_count": 5,
   "id": "c5e04cbc",
   "metadata": {},
   "outputs": [
    {
     "data": {
      "text/plain": [
       "carrier\n",
       "H2           84.096918\n",
       "MDES         81.000000\n",
       "battery    6043.980263\n",
       "Name: capital_cost, dtype: float64"
      ]
     },
     "execution_count": 5,
     "metadata": {},
     "output_type": "execute_result"
    }
   ],
   "source": [
    "n1.stores.groupby(n1.stores.carrier).capital_cost.mean()"
   ]
  },
  {
   "cell_type": "code",
   "execution_count": 6,
   "id": "51a7f16e",
   "metadata": {},
   "outputs": [
    {
     "name": "stderr",
     "output_type": "stream",
     "text": [
      "WARNING:pypsa.io:Importing network from PyPSA version v0.25.2 while current version is v0.26.0. Read the release notes at https://pypsa.readthedocs.io/en/latest/release_notes.html to prepare your network for import.\n",
      "INFO:pypsa.io:Imported network elec_s_37_ec_lv1.25_Co2L0-2H-EQ0.8c-re-MDES+c1-mdes+c3-mdes+e0.7.nc has buses, carriers, generators, global_constraints, lines, links, loads, storage_units, stores\n"
     ]
    }
   ],
   "source": [
    "n1_re = pypsa.Network(\"capacity/elec_s_37_ec_lv1.25_Co2L0-2H-EQ0.8c-re-MDES+c1-mdes+c3-mdes+e0.7.nc\")"
   ]
  },
  {
   "cell_type": "code",
   "execution_count": 7,
   "id": "a99419a7",
   "metadata": {},
   "outputs": [
    {
     "data": {
      "text/plain": [
       "88.92876771146882"
      ]
     },
     "execution_count": 7,
     "metadata": {},
     "output_type": "execute_result"
    }
   ],
   "source": [
    "n1_re.objective/1e9"
   ]
  },
  {
   "cell_type": "code",
   "execution_count": 8,
   "id": "9a9a0ab1",
   "metadata": {},
   "outputs": [
    {
     "data": {
      "text/plain": [
       "array(['offwind-ac', 'onwind', 'ror', 'solar', 'offwind-dc'], dtype=object)"
      ]
     },
     "execution_count": 8,
     "metadata": {},
     "output_type": "execute_result"
    }
   ],
   "source": [
    "n1_re.generators.carrier.unique()"
   ]
  },
  {
   "cell_type": "code",
   "execution_count": 9,
   "id": "4db69363",
   "metadata": {},
   "outputs": [
    {
     "data": {
      "text/plain": [
       "array(['H2', 'battery', 'MDES'], dtype=object)"
      ]
     },
     "execution_count": 9,
     "metadata": {},
     "output_type": "execute_result"
    }
   ],
   "source": [
    "n1_re.stores.carrier.unique()"
   ]
  },
  {
   "cell_type": "code",
   "execution_count": 10,
   "id": "67b03fa8",
   "metadata": {},
   "outputs": [],
   "source": [
    "d_store_re = n1_re.stores.groupby(n1_re.stores.carrier).e_nom_opt.sum()"
   ]
  },
  {
   "cell_type": "code",
   "execution_count": 11,
   "id": "5a9129c1",
   "metadata": {},
   "outputs": [],
   "source": [
    "d_store = n1.stores.groupby(n1.stores.carrier).e_nom_opt.sum()"
   ]
  },
  {
   "cell_type": "code",
   "execution_count": 12,
   "id": "b68da22f",
   "metadata": {},
   "outputs": [
    {
     "data": {
      "text/plain": [
       "carrier\n",
       "H2        -0.029543\n",
       "MDES       0.248106\n",
       "battery    0.062173\n",
       "Name: e_nom_opt, dtype: float64"
      ]
     },
     "execution_count": 12,
     "metadata": {},
     "output_type": "execute_result"
    }
   ],
   "source": [
    "(d_store_re - d_store)/d_store_re"
   ]
  },
  {
   "cell_type": "code",
   "execution_count": 13,
   "id": "229e6396",
   "metadata": {},
   "outputs": [
    {
     "data": {
      "text/plain": [
       "23706898.109501883"
      ]
     },
     "execution_count": 13,
     "metadata": {},
     "output_type": "execute_result"
    }
   ],
   "source": [
    "d_store_re.sum()-d_store.sum()"
   ]
  },
  {
   "cell_type": "code",
   "execution_count": 14,
   "id": "09a79aad",
   "metadata": {},
   "outputs": [
    {
     "name": "stderr",
     "output_type": "stream",
     "text": [
      "WARNING:pypsa.io:Importing network from PyPSA version v0.25.2 while current version is v0.26.0. Read the release notes at https://pypsa.readthedocs.io/en/latest/release_notes.html to prepare your network for import.\n",
      "INFO:pypsa.io:Imported network elec_s_37_ec_lv1.25_Co2L0-2H-EQ0.8c-re-off.nc has buses, carriers, generators, global_constraints, lines, links, loads, storage_units, stores\n"
     ]
    }
   ],
   "source": [
    "off_re = pypsa.Network(\"elec_s_37_ec_lv1.25_Co2L0-2H-EQ0.8c-re-off.nc\")"
   ]
  },
  {
   "cell_type": "code",
   "execution_count": 15,
   "id": "1359ff33",
   "metadata": {},
   "outputs": [
    {
     "data": {
      "text/plain": [
       "128.87834662778974"
      ]
     },
     "execution_count": 15,
     "metadata": {},
     "output_type": "execute_result"
    }
   ],
   "source": [
    "off_re.objective/1e9"
   ]
  },
  {
   "cell_type": "code",
   "execution_count": 16,
   "id": "5a145118",
   "metadata": {},
   "outputs": [
    {
     "data": {
      "text/plain": [
       "array(['H2', 'battery'], dtype=object)"
      ]
     },
     "execution_count": 16,
     "metadata": {},
     "output_type": "execute_result"
    }
   ],
   "source": [
    "off_re.stores.carrier.unique()"
   ]
  },
  {
   "cell_type": "code",
   "execution_count": 17,
   "id": "a14453a0",
   "metadata": {},
   "outputs": [
    {
     "name": "stderr",
     "output_type": "stream",
     "text": [
      "WARNING:pypsa.io:Importing network from PyPSA version v0.25.2 while current version is v0.26.0. Read the release notes at https://pypsa.readthedocs.io/en/latest/release_notes.html to prepare your network for import.\n",
      "INFO:pypsa.io:Imported network elec_s_37_ec_lv1.25_Co2L0-2H-EQ0.8c-re-MDES+c50-mdes+c1-mdes+e0.8.nc has buses, carriers, generators, global_constraints, lines, links, loads, storage_units, stores\n"
     ]
    }
   ],
   "source": [
    "n50 = pypsa.Network(\"elec_s_37_ec_lv1.25_Co2L0-2H-EQ0.8c-re-MDES+c50-mdes+c1-mdes+e0.8.nc\")"
   ]
  },
  {
   "cell_type": "code",
   "execution_count": 18,
   "id": "0ce9581e",
   "metadata": {},
   "outputs": [
    {
     "data": {
      "text/plain": [
       "1.0041082235762393"
      ]
     },
     "execution_count": 18,
     "metadata": {},
     "output_type": "execute_result"
    }
   ],
   "source": [
    "(off_re.objective - n50.objective)/(off_re.objective)*100"
   ]
  },
  {
   "cell_type": "code",
   "execution_count": 19,
   "id": "6f6e9242",
   "metadata": {},
   "outputs": [
    {
     "name": "stderr",
     "output_type": "stream",
     "text": [
      "WARNING:pypsa.io:Importing network from PyPSA version v0.25.2 while current version is v0.26.0. Read the release notes at https://pypsa.readthedocs.io/en/latest/release_notes.html to prepare your network for import.\n",
      "INFO:pypsa.io:Imported network elec_s_37_ec_lv1.25_Co2L0-2H-EQ0.8c-off.nc has buses, carriers, generators, global_constraints, lines, links, loads, storage_units, stores\n"
     ]
    }
   ],
   "source": [
    "off = pypsa.Network(\"elec_s_37_ec_lv1.25_Co2L0-2H-EQ0.8c-off.nc\")"
   ]
  },
  {
   "cell_type": "code",
   "execution_count": 20,
   "id": "e1bc0b16",
   "metadata": {},
   "outputs": [
    {
     "data": {
      "text/plain": [
       "94.91518573119832"
      ]
     },
     "execution_count": 20,
     "metadata": {},
     "output_type": "execute_result"
    }
   ],
   "source": [
    "off.objective/1e9"
   ]
  },
  {
   "cell_type": "code",
   "execution_count": 21,
   "id": "132568f0",
   "metadata": {},
   "outputs": [],
   "source": [
    "e_off_re = off_re.stores.groupby(\"carrier\").e_nom_opt.sum().rename(\"pure re, no MDES\")\n",
    "e_re = n1_re.stores.groupby(\"carrier\").e_nom_opt.sum().rename(\"pure re, with MDES\")\n",
    "e1_off = off.stores.groupby(\"carrier\").e_nom_opt.sum().rename(\"base, no MDES\")\n",
    "e1 = n1.stores.groupby(\"carrier\").e_nom_opt.sum().rename(\"base, with MDES\")"
   ]
  },
  {
   "cell_type": "code",
   "execution_count": 22,
   "id": "5ed08bce",
   "metadata": {},
   "outputs": [
    {
     "data": {
      "text/plain": [
       "pure re, no MDES      1.253364e+08\n",
       "pure re, with MDES    9.570918e+07\n",
       "base, no MDES         7.993968e+07\n",
       "base, with MDES       7.200228e+07\n",
       "dtype: float64"
      ]
     },
     "execution_count": 22,
     "metadata": {},
     "output_type": "execute_result"
    }
   ],
   "source": [
    "stores = pd.concat([e_off_re,e_re,e1_off, e1], axis=1)\n",
    "stores.sum(axis=0)"
   ]
  },
  {
   "cell_type": "code",
   "execution_count": 23,
   "id": "9d42a04a",
   "metadata": {},
   "outputs": [],
   "source": [
    "c_off_re = off_re.objective/1e9\n",
    "c_re = n1_re.objective/1e9\n",
    "c_off = off.objective/1e9\n",
    "c = n1.objective/1e9"
   ]
  },
  {
   "cell_type": "code",
   "execution_count": 24,
   "id": "afa253e8",
   "metadata": {},
   "outputs": [],
   "source": [
    "system_cost = [c_off_re, c_re, c_off, c]\n",
    "index = [\"pure re, no MDES\", \"pure re, with MDES\", \"base, no MDES\", \"base, with MDES\"]\n",
    "system_cost = pd.Series(system_cost, index=index, name='system cost [b€]')"
   ]
  },
  {
   "cell_type": "code",
   "execution_count": 25,
   "id": "6a438133",
   "metadata": {},
   "outputs": [],
   "source": [
    "system_cost=system_cost.to_frame()"
   ]
  },
  {
   "cell_type": "code",
   "execution_count": 26,
   "id": "b192d68d",
   "metadata": {},
   "outputs": [
    {
     "data": {
      "text/html": [
       "<div>\n",
       "<style scoped>\n",
       "    .dataframe tbody tr th:only-of-type {\n",
       "        vertical-align: middle;\n",
       "    }\n",
       "\n",
       "    .dataframe tbody tr th {\n",
       "        vertical-align: top;\n",
       "    }\n",
       "\n",
       "    .dataframe thead th {\n",
       "        text-align: right;\n",
       "    }\n",
       "</style>\n",
       "<table border=\"1\" class=\"dataframe\">\n",
       "  <thead>\n",
       "    <tr style=\"text-align: right;\">\n",
       "      <th></th>\n",
       "      <th>pure re, no MDES</th>\n",
       "      <th>pure re, with MDES</th>\n",
       "      <th>base, no MDES</th>\n",
       "      <th>base, with MDES</th>\n",
       "    </tr>\n",
       "    <tr>\n",
       "      <th>carrier</th>\n",
       "      <th></th>\n",
       "      <th></th>\n",
       "      <th></th>\n",
       "      <th></th>\n",
       "    </tr>\n",
       "  </thead>\n",
       "  <tbody>\n",
       "    <tr>\n",
       "      <th>H2</th>\n",
       "      <td>1.236522e+08</td>\n",
       "      <td>9.390665e+01</td>\n",
       "      <td>7.869422e+07</td>\n",
       "      <td>9.668094e+01</td>\n",
       "    </tr>\n",
       "    <tr>\n",
       "      <th>battery</th>\n",
       "      <td>1.684206e+06</td>\n",
       "      <td>2.102830e+05</td>\n",
       "      <td>1.245459e+06</td>\n",
       "      <td>1.972091e+05</td>\n",
       "    </tr>\n",
       "    <tr>\n",
       "      <th>MDES</th>\n",
       "      <td>NaN</td>\n",
       "      <td>9.549880e+07</td>\n",
       "      <td>NaN</td>\n",
       "      <td>7.180497e+07</td>\n",
       "    </tr>\n",
       "  </tbody>\n",
       "</table>\n",
       "</div>"
      ],
      "text/plain": [
       "         pure re, no MDES  pure re, with MDES  base, no MDES  base, with MDES\n",
       "carrier                                                                      \n",
       "H2           1.236522e+08        9.390665e+01   7.869422e+07     9.668094e+01\n",
       "battery      1.684206e+06        2.102830e+05   1.245459e+06     1.972091e+05\n",
       "MDES                  NaN        9.549880e+07            NaN     7.180497e+07"
      ]
     },
     "execution_count": 26,
     "metadata": {},
     "output_type": "execute_result"
    }
   ],
   "source": [
    "stores"
   ]
  },
  {
   "cell_type": "code",
   "execution_count": 27,
   "id": "fafa75cb",
   "metadata": {},
   "outputs": [],
   "source": [
    "data = pd.concat([stores, system_cost.T], axis=0)"
   ]
  },
  {
   "cell_type": "code",
   "execution_count": 28,
   "id": "5720e15d",
   "metadata": {},
   "outputs": [
    {
     "data": {
      "text/html": [
       "<div>\n",
       "<style scoped>\n",
       "    .dataframe tbody tr th:only-of-type {\n",
       "        vertical-align: middle;\n",
       "    }\n",
       "\n",
       "    .dataframe tbody tr th {\n",
       "        vertical-align: top;\n",
       "    }\n",
       "\n",
       "    .dataframe thead th {\n",
       "        text-align: right;\n",
       "    }\n",
       "</style>\n",
       "<table border=\"1\" class=\"dataframe\">\n",
       "  <thead>\n",
       "    <tr style=\"text-align: right;\">\n",
       "      <th></th>\n",
       "      <th>H2</th>\n",
       "      <th>battery</th>\n",
       "      <th>MDES</th>\n",
       "    </tr>\n",
       "  </thead>\n",
       "  <tbody>\n",
       "    <tr>\n",
       "      <th>pure re, no MDES</th>\n",
       "      <td>1.236522e+08</td>\n",
       "      <td>1.684206e+06</td>\n",
       "      <td>NaN</td>\n",
       "    </tr>\n",
       "    <tr>\n",
       "      <th>pure re, with MDES</th>\n",
       "      <td>9.390665e+01</td>\n",
       "      <td>2.102830e+05</td>\n",
       "      <td>9.549880e+07</td>\n",
       "    </tr>\n",
       "    <tr>\n",
       "      <th>base, no MDES</th>\n",
       "      <td>7.869422e+07</td>\n",
       "      <td>1.245459e+06</td>\n",
       "      <td>NaN</td>\n",
       "    </tr>\n",
       "    <tr>\n",
       "      <th>base, with MDES</th>\n",
       "      <td>9.668094e+01</td>\n",
       "      <td>1.972091e+05</td>\n",
       "      <td>7.180497e+07</td>\n",
       "    </tr>\n",
       "  </tbody>\n",
       "</table>\n",
       "</div>"
      ],
      "text/plain": [
       "                              H2       battery          MDES\n",
       "pure re, no MDES    1.236522e+08  1.684206e+06           NaN\n",
       "pure re, with MDES  9.390665e+01  2.102830e+05  9.549880e+07\n",
       "base, no MDES       7.869422e+07  1.245459e+06           NaN\n",
       "base, with MDES     9.668094e+01  1.972091e+05  7.180497e+07"
      ]
     },
     "execution_count": 28,
     "metadata": {},
     "output_type": "execute_result"
    }
   ],
   "source": [
    "data.iloc[:3,:].T"
   ]
  },
  {
   "cell_type": "code",
   "execution_count": 29,
   "id": "bb6c6984",
   "metadata": {},
   "outputs": [
    {
     "data": {
      "text/plain": [
       "pure re, no MDES      128.878347\n",
       "pure re, with MDES     88.928768\n",
       "base, no MDES          94.915186\n",
       "base, with MDES        67.078544\n",
       "Name: system cost [b€], dtype: float64"
      ]
     },
     "execution_count": 29,
     "metadata": {},
     "output_type": "execute_result"
    }
   ],
   "source": [
    "data.loc[\"system cost [b€]\"]"
   ]
  },
  {
   "cell_type": "code",
   "execution_count": 30,
   "id": "28eb820f",
   "metadata": {},
   "outputs": [
    {
     "data": {
      "image/png": "[encoded data removed]",
      "text/plain": [
       "<Figure size 700x400 with 2 Axes>"
      ]
     },
     "metadata": {},
     "output_type": "display_data"
    }
   ],
   "source": [
    "x = data.columns\n",
    "y1 = data.iloc[:3,:].div(1e6)\n",
    "y2 = data.loc[\"system cost [b€]\"]\n",
    "\n",
    "fig, ax1 = plt.subplots(figsize=(7,4))\n",
    "fig.patch.set_facecolor('white')\n",
    "ax1.set_facecolor('white')\n",
    "y1.T.plot(kind='bar', color=data.iloc[:3,:].index.map(n1.carriers.color), stacked=True, legend=False, ax=ax1, zorder=1)\n",
    "ax1.set_ylabel('storage capacity [TWh]')\n",
    "\n",
    "ax2 = ax1.twinx()\n",
    "ax2.plot(x, y2, color='blue', marker='o', zorder=2, label=\"system cost\")\n",
    "ax2.set_ylabel('system cost [b€]')\n",
    "ax1.set_xticklabels(x, rotation=0)\n",
    "handles1, labels1 = ax1.get_legend_handles_labels()\n",
    "handles2, labels2 = ax2.get_legend_handles_labels()\n",
    "ax2.legend(handles1 + handles2, labels1 + labels2, loc='upper right',facecolor='white')\n",
    "\n",
    "ax1.grid(False)\n",
    "plt.tight_layout()\n",
    "plt.savefig(\"Sensitivity analysis 1.pdf\", dpi=750)\n",
    "plt.show()"
   ]
  },
  {
   "cell_type": "code",
   "execution_count": 31,
   "id": "b6dc905f",
   "metadata": {},
   "outputs": [
    {
     "name": "stderr",
     "output_type": "stream",
     "text": [
      "WARNING:pypsa.io:Importing network from PyPSA version v0.25.2 while current version is v0.26.0. Read the release notes at https://pypsa.readthedocs.io/en/latest/release_notes.html to prepare your network for import.\n",
      "INFO:pypsa.io:Imported network elec_s_37_ec_lv1.25_Co2L0-2H-EQ0.8c-re-MDES+c5-mdes+c11-mdes+e0.7.nc has buses, carriers, generators, global_constraints, lines, links, loads, storage_units, stores\n"
     ]
    }
   ],
   "source": [
    "n5_re = pypsa.Network(\"elec_s_37_ec_lv1.25_Co2L0-2H-EQ0.8c-re-MDES+c5-mdes+c11-mdes+e0.7.nc\")"
   ]
  },
  {
   "cell_type": "code",
   "execution_count": 32,
   "id": "7925e2a1",
   "metadata": {},
   "outputs": [
    {
     "data": {
      "text/plain": [
       "123.93598492951216"
      ]
     },
     "execution_count": 32,
     "metadata": {},
     "output_type": "execute_result"
    }
   ],
   "source": [
    "n5_re.objective/1e9"
   ]
  },
  {
   "cell_type": "code",
   "execution_count": 33,
   "id": "deaaf27c",
   "metadata": {},
   "outputs": [
    {
     "data": {
      "text/plain": [
       "3.8349046427104536"
      ]
     },
     "execution_count": 33,
     "metadata": {},
     "output_type": "execute_result"
    }
   ],
   "source": [
    "(c_off_re - n5_re.objective/1e9)/c_off_re*100"
   ]
  },
  {
   "cell_type": "code",
   "execution_count": 34,
   "id": "4460a87a",
   "metadata": {},
   "outputs": [
    {
     "data": {
      "text/plain": [
       "array(['H2', 'battery', 'MDES'], dtype=object)"
      ]
     },
     "execution_count": 34,
     "metadata": {},
     "output_type": "execute_result"
    }
   ],
   "source": [
    "n5_re.stores.carrier.unique()"
   ]
  },
  {
   "cell_type": "code",
   "execution_count": 35,
   "id": "2f8e0aef",
   "metadata": {},
   "outputs": [
    {
     "data": {
      "text/plain": [
       "array([  84.09691752, 6043.98026333,  405.        ])"
      ]
     },
     "execution_count": 35,
     "metadata": {},
     "output_type": "execute_result"
    }
   ],
   "source": [
    "n5_re.stores.capital_cost.unique()"
   ]
  },
  {
   "cell_type": "code",
   "execution_count": 36,
   "id": "aa0f3246",
   "metadata": {},
   "outputs": [
    {
     "data": {
      "text/plain": [
       "array(['offwind-ac', 'onwind', 'ror', 'solar', 'offwind-dc'], dtype=object)"
      ]
     },
     "execution_count": 36,
     "metadata": {},
     "output_type": "execute_result"
    }
   ],
   "source": [
    "n5_re.generators.carrier.unique()"
   ]
  },
  {
   "cell_type": "code",
   "execution_count": 37,
   "id": "bdb84997",
   "metadata": {},
   "outputs": [
    {
     "data": {
      "text/plain": [
       "array(['DC', 'H2 electrolysis', 'H2 fuel cell', 'battery charger',\n",
       "       'battery discharger', 'mdes-charger', 'mdes-discharger'],\n",
       "      dtype=object)"
      ]
     },
     "execution_count": 37,
     "metadata": {},
     "output_type": "execute_result"
    }
   ],
   "source": [
    "n5_re.links.carrier.unique()"
   ]
  },
  {
   "cell_type": "code",
   "execution_count": 38,
   "id": "8a5dadbf",
   "metadata": {},
   "outputs": [
    {
     "data": {
      "text/plain": [
       "carrier\n",
       "DC                    57604.011689\n",
       "H2 electrolysis       22016.685483\n",
       "H2 fuel cell          76951.001091\n",
       "battery charger        9082.650164\n",
       "battery discharger        0.000000\n",
       "mdes-charger          44550.000000\n",
       "mdes-discharger       44550.000000\n",
       "Name: capital_cost, dtype: float64"
      ]
     },
     "execution_count": 38,
     "metadata": {},
     "output_type": "execute_result"
    }
   ],
   "source": [
    "n5_re.links.groupby(n5_re.links.carrier).capital_cost.mean()"
   ]
  },
  {
   "cell_type": "markdown",
   "id": "f6962667",
   "metadata": {},
   "source": [
    "**Senstivity analysis 2 - synergies of MDES technologies**"
   ]
  },
  {
   "cell_type": "code",
   "execution_count": 39,
   "id": "bdbc10cb",
   "metadata": {},
   "outputs": [
    {
     "name": "stderr",
     "output_type": "stream",
     "text": [
      "WARNING:pypsa.io:Importing network from PyPSA version v0.25.2 while current version is v0.26.0. Read the release notes at https://pypsa.readthedocs.io/en/latest/release_notes.html to prepare your network for import.\n",
      "INFO:pypsa.io:Imported network elec_s_37_ec_lv1.25_Co2L0-2H-EQ0.8c-MDES+c5-mdes+c11-mdes+e0.7.nc has buses, carriers, generators, global_constraints, lines, links, loads, storage_units, stores\n"
     ]
    }
   ],
   "source": [
    "n5_11 = pypsa.Network(\"capacity/elec_s_37_ec_lv1.25_Co2L0-2H-EQ0.8c-MDES+c5-mdes+c11-mdes+e0.7.nc\")"
   ]
  },
  {
   "cell_type": "code",
   "execution_count": 40,
   "id": "bcd56597",
   "metadata": {},
   "outputs": [
    {
     "data": {
      "text/plain": [
       "91.43853845061051"
      ]
     },
     "execution_count": 40,
     "metadata": {},
     "output_type": "execute_result"
    }
   ],
   "source": [
    "n5_11.objective/1e9"
   ]
  },
  {
   "cell_type": "code",
   "execution_count": 41,
   "id": "40c5048b",
   "metadata": {},
   "outputs": [],
   "source": [
    "single_e = n5_11.stores.groupby(n5_11.stores.carrier).e_nom_opt.sum().div(1e6)"
   ]
  },
  {
   "cell_type": "code",
   "execution_count": 42,
   "id": "a18ea5e8",
   "metadata": {},
   "outputs": [
    {
     "data": {
      "text/plain": [
       "14.740961912268085"
      ]
     },
     "execution_count": 42,
     "metadata": {},
     "output_type": "execute_result"
    }
   ],
   "source": [
    "single_e.loc[\"MDES\"]"
   ]
  },
  {
   "cell_type": "code",
   "execution_count": 43,
   "id": "05d7aeb6",
   "metadata": {},
   "outputs": [
    {
     "name": "stderr",
     "output_type": "stream",
     "text": [
      "WARNING:pypsa.io:Importing network from PyPSA version v0.25.2 while current version is v0.26.0. Read the release notes at https://pypsa.readthedocs.io/en/latest/release_notes.html to prepare your network for import.\n",
      "INFO:pypsa.io:Imported network elec_s_37_ec_lv1.25_Co2L0-2H-EQ0.8c-PTES+c1-VRFB+c1.nc has buses, carriers, generators, global_constraints, lines, links, loads, storage_units, stores\n"
     ]
    }
   ],
   "source": [
    "n_coexist = pypsa.Network(\"sensitivity_2/elec_s_37_ec_lv1.25_Co2L0-2H-EQ0.8c-PTES+c1-VRFB+c1.nc\")"
   ]
  },
  {
   "cell_type": "code",
   "execution_count": 44,
   "id": "fb97fea2",
   "metadata": {},
   "outputs": [
    {
     "data": {
      "text/plain": [
       "91.08261376825119"
      ]
     },
     "execution_count": 44,
     "metadata": {},
     "output_type": "execute_result"
    }
   ],
   "source": [
    "n_coexist.objective/1e9"
   ]
  },
  {
   "cell_type": "code",
   "execution_count": 45,
   "id": "73e17856",
   "metadata": {},
   "outputs": [
    {
     "data": {
      "text/plain": [
       "0.3907712653755451"
      ]
     },
     "execution_count": 45,
     "metadata": {},
     "output_type": "execute_result"
    }
   ],
   "source": [
    "(n5_11.objective/1e9 - n_coexist.objective/1e9)/(n_coexist.objective/1e9)*100"
   ]
  },
  {
   "cell_type": "code",
   "execution_count": 46,
   "id": "b95668ae",
   "metadata": {},
   "outputs": [],
   "source": [
    "coexist_e = n_coexist.stores.groupby(n_coexist.stores.carrier).e_nom_opt.sum().div(1e6)"
   ]
  },
  {
   "cell_type": "code",
   "execution_count": 47,
   "id": "520332e8",
   "metadata": {},
   "outputs": [
    {
     "data": {
      "text/plain": [
       "15.16028407646324"
      ]
     },
     "execution_count": 47,
     "metadata": {},
     "output_type": "execute_result"
    }
   ],
   "source": [
    "coexist_e.loc[\"PTES\"]+coexist_e.loc[\"VRFB\"]"
   ]
  },
  {
   "cell_type": "code",
   "execution_count": 48,
   "id": "7bcd65b4",
   "metadata": {},
   "outputs": [],
   "source": [
    "gen5_11 = n5_11.generators.groupby(n5_11.generators.carrier).p_nom_opt.sum().sum()/1e6"
   ]
  },
  {
   "cell_type": "code",
   "execution_count": 49,
   "id": "0518fea1",
   "metadata": {},
   "outputs": [],
   "source": [
    "gen_coexist = n_coexist.generators.groupby(n_coexist.generators.carrier).p_nom_opt.sum().sum()/1e6"
   ]
  },
  {
   "cell_type": "code",
   "execution_count": 50,
   "id": "45fd2c0e",
   "metadata": {},
   "outputs": [],
   "source": [
    "data = {\n",
    "    \"Scenario\": [\"Single PTES\", \"PTES and VRFB\"],\n",
    "    \"Total system cost [B€]\": [n5_11.objective/1e9, n_coexist.objective/1e9],\n",
    "    \"MDES requirement [TWh]\": [single_e.loc[\"MDES\"], coexist_e.loc[\"PTES\"]+coexist_e.loc[\"VRFB\"]],\n",
    "    \"total installed generation capacity [TW]\": [gen5_11, gen_coexist]\n",
    "}\n",
    "df = pd.DataFrame(data)\n",
    "df = df.set_index(\"Scenario\")"
   ]
  },
  {
   "cell_type": "code",
   "execution_count": 51,
   "id": "8703a22d",
   "metadata": {},
   "outputs": [
    {
     "data": {
      "text/html": [
       "<div>\n",
       "<style scoped>\n",
       "    .dataframe tbody tr th:only-of-type {\n",
       "        vertical-align: middle;\n",
       "    }\n",
       "\n",
       "    .dataframe tbody tr th {\n",
       "        vertical-align: top;\n",
       "    }\n",
       "\n",
       "    .dataframe thead th {\n",
       "        text-align: right;\n",
       "    }\n",
       "</style>\n",
       "<table border=\"1\" class=\"dataframe\">\n",
       "  <thead>\n",
       "    <tr style=\"text-align: right;\">\n",
       "      <th></th>\n",
       "      <th>Total system cost [B€]</th>\n",
       "      <th>MDES requirement [TWh]</th>\n",
       "      <th>total installed generation capacity [TW]</th>\n",
       "    </tr>\n",
       "    <tr>\n",
       "      <th>Scenario</th>\n",
       "      <th></th>\n",
       "      <th></th>\n",
       "      <th></th>\n",
       "    </tr>\n",
       "  </thead>\n",
       "  <tbody>\n",
       "    <tr>\n",
       "      <th>Single PTES</th>\n",
       "      <td>91.44</td>\n",
       "      <td>14.74</td>\n",
       "      <td>1.67</td>\n",
       "    </tr>\n",
       "    <tr>\n",
       "      <th>PTES and VRFB</th>\n",
       "      <td>91.08</td>\n",
       "      <td>15.16</td>\n",
       "      <td>1.68</td>\n",
       "    </tr>\n",
       "  </tbody>\n",
       "</table>\n",
       "</div>"
      ],
      "text/plain": [
       "               Total system cost [B€]  MDES requirement [TWh]  \\\n",
       "Scenario                                                        \n",
       "Single PTES                     91.44                   14.74   \n",
       "PTES and VRFB                   91.08                   15.16   \n",
       "\n",
       "               total installed generation capacity [TW]  \n",
       "Scenario                                                 \n",
       "Single PTES                                        1.67  \n",
       "PTES and VRFB                                      1.68  "
      ]
     },
     "execution_count": 51,
     "metadata": {},
     "output_type": "execute_result"
    }
   ],
   "source": [
    "df = np.around(df,decimals=2)\n",
    "df"
   ]
  },
  {
   "cell_type": "code",
   "execution_count": 52,
   "id": "b401d865",
   "metadata": {},
   "outputs": [
    {
     "data": {
      "text/plain": [
       "carrier\n",
       "biomass                13589.758450\n",
       "geothermal               766.000000\n",
       "nuclear               100037.900000\n",
       "offwind-ac             11204.989791\n",
       "offwind-dc             17863.180619\n",
       "onwind                496455.180736\n",
       "ror                    42522.648833\n",
       "solar                 992256.809902\n",
       "PHS                    31926.953000\n",
       "hydro                  77743.173105\n",
       "H2 electrolysis        39195.994702\n",
       "H2 fuel cell           77265.587384\n",
       "battery charger       180356.392970\n",
       "battery discharger    184075.472761\n",
       "mdes-charger           65124.782754\n",
       "mdes-discharger        93318.450630\n",
       "Name: Single PTES, dtype: float64"
      ]
     },
     "execution_count": 52,
     "metadata": {},
     "output_type": "execute_result"
    }
   ],
   "source": [
    "gen_cap5_11 = n5_11.generators.groupby(\"carrier\").p_nom_opt.sum()\n",
    "sto_u5_11 = n5_11.storage_units.groupby(\"carrier\").p_nom_opt.sum()\n",
    "sto5_11 = n5_11.links.loc[~(n5_11.links.carrier == \"DC\")].groupby(\"carrier\").p_nom_opt.sum()\n",
    "max_cap5_11 = pd.concat([gen_cap5_11, sto_u5_11, sto5_11], axis=0)\n",
    "max_cap5_11.rename(\"Single PTES\", inplace=True)"
   ]
  },
  {
   "cell_type": "code",
   "execution_count": 53,
   "id": "1a549edd",
   "metadata": {},
   "outputs": [
    {
     "data": {
      "text/plain": [
       "carrier\n",
       "biomass               1.358976e+04\n",
       "geothermal            7.660000e+02\n",
       "nuclear               1.000379e+05\n",
       "offwind-ac            1.120520e+04\n",
       "offwind-dc            1.885547e+04\n",
       "onwind                4.945630e+05\n",
       "ror                   4.252265e+04\n",
       "solar                 1.002579e+06\n",
       "PHS                   3.192695e+04\n",
       "hydro                 7.774317e+04\n",
       "H2 electrolysis       3.694530e+04\n",
       "H2 fuel cell          7.687605e+04\n",
       "PTES charger          6.354933e+04\n",
       "PTES discharger       9.025263e+04\n",
       "VRFB charger          9.658157e+04\n",
       "VRFB discharger       1.192801e+05\n",
       "battery charger       9.346434e+04\n",
       "battery discharger    9.539165e+04\n",
       "Name: PTES and VRFB, dtype: float64"
      ]
     },
     "execution_count": 53,
     "metadata": {},
     "output_type": "execute_result"
    }
   ],
   "source": [
    "gen_cap_co = n_coexist.generators.groupby(\"carrier\").p_nom_opt.sum()\n",
    "sto_u_co = n_coexist.storage_units.groupby(\"carrier\").p_nom_opt.sum()\n",
    "sto_co = n_coexist.links.loc[~(n_coexist.links.carrier == \"DC\")].groupby(\"carrier\").p_nom_opt.sum()\n",
    "max_cap_co = pd.concat([gen_cap_co, sto_u_co, sto_co], axis=0)\n",
    "max_cap_co.rename(\"PTES and VRFB\", inplace=True)"
   ]
  },
  {
   "cell_type": "code",
   "execution_count": 54,
   "id": "b7a7fe2a",
   "metadata": {},
   "outputs": [],
   "source": [
    "cap = pd.concat([sto5_11.rename(\"Single PTES\", inplace=True), sto_co.rename(\"PTES and VRFB\", inplace=True)], axis=1)"
   ]
  },
  {
   "cell_type": "code",
   "execution_count": 55,
   "id": "0e2468d8",
   "metadata": {},
   "outputs": [],
   "source": [
    "cap.fillna(0, inplace=True)"
   ]
  },
  {
   "cell_type": "code",
   "execution_count": 56,
   "id": "317a6e23",
   "metadata": {},
   "outputs": [
    {
     "data": {
      "text/html": [
       "<div>\n",
       "<style scoped>\n",
       "    .dataframe tbody tr th:only-of-type {\n",
       "        vertical-align: middle;\n",
       "    }\n",
       "\n",
       "    .dataframe tbody tr th {\n",
       "        vertical-align: top;\n",
       "    }\n",
       "\n",
       "    .dataframe thead th {\n",
       "        text-align: right;\n",
       "    }\n",
       "</style>\n",
       "<table border=\"1\" class=\"dataframe\">\n",
       "  <thead>\n",
       "    <tr style=\"text-align: right;\">\n",
       "      <th></th>\n",
       "      <th>Single PTES</th>\n",
       "      <th>PTES and VRFB</th>\n",
       "    </tr>\n",
       "    <tr>\n",
       "      <th>carrier</th>\n",
       "      <th></th>\n",
       "      <th></th>\n",
       "    </tr>\n",
       "  </thead>\n",
       "  <tbody>\n",
       "    <tr>\n",
       "      <th>H2 electrolysis</th>\n",
       "      <td>39195.994702</td>\n",
       "      <td>36945.302563</td>\n",
       "    </tr>\n",
       "    <tr>\n",
       "      <th>H2 fuel cell</th>\n",
       "      <td>77265.587384</td>\n",
       "      <td>76876.050340</td>\n",
       "    </tr>\n",
       "    <tr>\n",
       "      <th>battery charger</th>\n",
       "      <td>180356.392970</td>\n",
       "      <td>93464.342617</td>\n",
       "    </tr>\n",
       "    <tr>\n",
       "      <th>battery discharger</th>\n",
       "      <td>184075.472761</td>\n",
       "      <td>95391.645231</td>\n",
       "    </tr>\n",
       "    <tr>\n",
       "      <th>mdes-charger</th>\n",
       "      <td>65124.782754</td>\n",
       "      <td>0.000000</td>\n",
       "    </tr>\n",
       "    <tr>\n",
       "      <th>mdes-discharger</th>\n",
       "      <td>93318.450630</td>\n",
       "      <td>0.000000</td>\n",
       "    </tr>\n",
       "    <tr>\n",
       "      <th>PTES charger</th>\n",
       "      <td>0.000000</td>\n",
       "      <td>63549.326684</td>\n",
       "    </tr>\n",
       "    <tr>\n",
       "      <th>PTES discharger</th>\n",
       "      <td>0.000000</td>\n",
       "      <td>90252.632911</td>\n",
       "    </tr>\n",
       "    <tr>\n",
       "      <th>VRFB charger</th>\n",
       "      <td>0.000000</td>\n",
       "      <td>96581.566434</td>\n",
       "    </tr>\n",
       "    <tr>\n",
       "      <th>VRFB discharger</th>\n",
       "      <td>0.000000</td>\n",
       "      <td>119280.070728</td>\n",
       "    </tr>\n",
       "  </tbody>\n",
       "</table>\n",
       "</div>"
      ],
      "text/plain": [
       "                      Single PTES  PTES and VRFB\n",
       "carrier                                         \n",
       "H2 electrolysis      39195.994702   36945.302563\n",
       "H2 fuel cell         77265.587384   76876.050340\n",
       "battery charger     180356.392970   93464.342617\n",
       "battery discharger  184075.472761   95391.645231\n",
       "mdes-charger         65124.782754       0.000000\n",
       "mdes-discharger      93318.450630       0.000000\n",
       "PTES charger             0.000000   63549.326684\n",
       "PTES discharger          0.000000   90252.632911\n",
       "VRFB charger             0.000000   96581.566434\n",
       "VRFB discharger          0.000000  119280.070728"
      ]
     },
     "execution_count": 56,
     "metadata": {},
     "output_type": "execute_result"
    }
   ],
   "source": [
    "cap"
   ]
  },
  {
   "cell_type": "code",
   "execution_count": 57,
   "id": "a1f1e1e6",
   "metadata": {},
   "outputs": [],
   "source": [
    "other_color = cap.index.map(n_coexist.carriers.color)[:4].tolist()"
   ]
  },
  {
   "cell_type": "code",
   "execution_count": 58,
   "id": "82f74ec4",
   "metadata": {},
   "outputs": [],
   "source": [
    "mdes_color = cap.index.map(n5_11.carriers.color)[4:6].tolist()"
   ]
  },
  {
   "cell_type": "code",
   "execution_count": 59,
   "id": "7984fe87",
   "metadata": {},
   "outputs": [],
   "source": [
    "co_color = cap.index.map(n_coexist.carriers.color)[6:].tolist()"
   ]
  },
  {
   "cell_type": "code",
   "execution_count": 60,
   "id": "d3b819c6",
   "metadata": {},
   "outputs": [],
   "source": [
    "import itertools\n",
    "color1 = list(itertools.chain(other_color, mdes_color, co_color))"
   ]
  },
  {
   "cell_type": "code",
   "execution_count": 61,
   "id": "ee13ae23",
   "metadata": {},
   "outputs": [
    {
     "data": {
      "text/plain": [
       "['#ff29d9',\n",
       " '#c251ae',\n",
       " '#88a75b',\n",
       " '#5d4e29',\n",
       " '#e8987b',\n",
       " '#87341b',\n",
       " '#fa7d7d',\n",
       " '#e60909',\n",
       " '#d5f060',\n",
       " '#9cbd0b']"
      ]
     },
     "execution_count": 61,
     "metadata": {},
     "output_type": "execute_result"
    }
   ],
   "source": [
    "color1"
   ]
  },
  {
   "cell_type": "code",
   "execution_count": 62,
   "id": "aca34a29",
   "metadata": {},
   "outputs": [],
   "source": [
    "single_e=single_e.rename(\"Single PTES\")\n",
    "coexist_e=coexist_e.rename(\"PTES and VRFB\")"
   ]
  },
  {
   "cell_type": "code",
   "execution_count": 63,
   "id": "1048e2ec",
   "metadata": {},
   "outputs": [],
   "source": [
    "e = pd.concat([single_e, coexist_e], axis=1)\n",
    "e.fillna(0, inplace=True)"
   ]
  },
  {
   "cell_type": "code",
   "execution_count": 64,
   "id": "97249278",
   "metadata": {},
   "outputs": [
    {
     "data": {
      "text/html": [
       "<div>\n",
       "<style scoped>\n",
       "    .dataframe tbody tr th:only-of-type {\n",
       "        vertical-align: middle;\n",
       "    }\n",
       "\n",
       "    .dataframe tbody tr th {\n",
       "        vertical-align: top;\n",
       "    }\n",
       "\n",
       "    .dataframe thead th {\n",
       "        text-align: right;\n",
       "    }\n",
       "</style>\n",
       "<table border=\"1\" class=\"dataframe\">\n",
       "  <thead>\n",
       "    <tr style=\"text-align: right;\">\n",
       "      <th></th>\n",
       "      <th>Single PTES</th>\n",
       "      <th>PTES and VRFB</th>\n",
       "    </tr>\n",
       "    <tr>\n",
       "      <th>carrier</th>\n",
       "      <th></th>\n",
       "      <th></th>\n",
       "    </tr>\n",
       "  </thead>\n",
       "  <tbody>\n",
       "    <tr>\n",
       "      <th>H2</th>\n",
       "      <td>47.678949</td>\n",
       "      <td>48.572528</td>\n",
       "    </tr>\n",
       "    <tr>\n",
       "      <th>MDES</th>\n",
       "      <td>14.740962</td>\n",
       "      <td>0.000000</td>\n",
       "    </tr>\n",
       "    <tr>\n",
       "      <th>battery</th>\n",
       "      <td>0.958136</td>\n",
       "      <td>0.497955</td>\n",
       "    </tr>\n",
       "    <tr>\n",
       "      <th>PTES</th>\n",
       "      <td>0.000000</td>\n",
       "      <td>14.553036</td>\n",
       "    </tr>\n",
       "    <tr>\n",
       "      <th>VRFB</th>\n",
       "      <td>0.000000</td>\n",
       "      <td>0.607248</td>\n",
       "    </tr>\n",
       "  </tbody>\n",
       "</table>\n",
       "</div>"
      ],
      "text/plain": [
       "         Single PTES  PTES and VRFB\n",
       "carrier                            \n",
       "H2         47.678949      48.572528\n",
       "MDES       14.740962       0.000000\n",
       "battery     0.958136       0.497955\n",
       "PTES        0.000000      14.553036\n",
       "VRFB        0.000000       0.607248"
      ]
     },
     "execution_count": 64,
     "metadata": {},
     "output_type": "execute_result"
    }
   ],
   "source": [
    "e"
   ]
  },
  {
   "cell_type": "code",
   "execution_count": 65,
   "id": "3c051003",
   "metadata": {},
   "outputs": [],
   "source": [
    "color2 = list(itertools.chain(e.index.map(n5_11.carriers.color)[:3].tolist(), e.index.map(n_coexist.carriers.color)[3:].tolist()))"
   ]
  },
  {
   "cell_type": "code",
   "execution_count": 66,
   "id": "aeb18885",
   "metadata": {},
   "outputs": [
    {
     "data": {
      "image/png": "[encoded data removed]",
      "text/plain": [
       "<Figure size 1200x500 with 2 Axes>"
      ]
     },
     "metadata": {},
     "output_type": "display_data"
    }
   ],
   "source": [
    "fig,ax1 = plt.subplots(figsize=(12,5))\n",
    "fig.patch.set_facecolor('white')\n",
    "ax1.set_facecolor('white')\n",
    "\n",
    "ax1.set_ylabel('Optimal power capacity [GW]')\n",
    "cap.T.div(1e3).plot(kind='bar', color=color1, stacked=True, width=0.2,position=1.1, align='center', ax=ax1)\n",
    "ax1.set_xticklabels(ax1.get_xticklabels(), rotation=0)\n",
    "ax1.legend(title=\"Charger/discharger\", loc='center left', bbox_to_anchor=(-0.3, 0.5), frameon=False)\n",
    "\n",
    "ax2 = ax1.twinx()\n",
    "ax2.set_ylabel('Storage capacity [TWh]')\n",
    "e.T.plot(kind='bar', color=color2, stacked=True, width=0.2,align=\"edge\",ax=ax2)\n",
    "ax2.legend(title=\"Storage\", loc='center left', bbox_to_anchor=(1.05, 0.5), frameon=False)\n",
    "plt.tight_layout()\n",
    "plt.show()"
   ]
  },
  {
   "cell_type": "code",
   "execution_count": 67,
   "id": "5c1ecc77",
   "metadata": {},
   "outputs": [
    {
     "data": {
      "image/png": "[encoded data removed]",
      "text/plain": [
       "<Figure size 700x410 with 2 Axes>"
      ]
     },
     "metadata": {},
     "output_type": "display_data"
    }
   ],
   "source": [
    "fig,ax1 = plt.subplots(figsize=(7,4.1))\n",
    "fig.patch.set_facecolor('white')\n",
    "ax1.set_facecolor('white')\n",
    "\n",
    "ax1.set_ylabel('Optimal power capacity [GW]')\n",
    "cap.T.div(1e3).plot(kind='bar', color=color1, stacked=True, width=0.2,position=1.2,ax=ax1)\n",
    "ax1.legend(title=\"Charger/discharger\", loc='center',bbox_to_anchor=(0.45, 0.67), frameon=False)\n",
    "ax1.set_xticklabels(ax1.get_xticklabels(), rotation=0)\n",
    "\n",
    "ax2 = ax1.twinx()\n",
    "ax2.set_ylabel('Storage capacity [TWh]')\n",
    "e.T.plot(kind='bar', color=color2, stacked=True, width=0.2, position=0.6, align=\"edge\", ax=ax2)\n",
    "ax2.legend(title=\"Storage\", loc='center', bbox_to_anchor=(0.384, 0.165),frameon=False)\n",
    "plt.tight_layout()\n",
    "plt.grid(False)\n",
    "plt.savefig(\"sensitivity2.pdf\", dpi=750)\n",
    "plt.show()"
   ]
  },
  {
   "cell_type": "markdown",
   "id": "46e28c3c",
   "metadata": {},
   "source": [
    "**Sensitivity 3 impact of capital cost of onshore wind**"
   ]
  },
  {
   "cell_type": "code",
   "execution_count": 68,
   "id": "f8bdd01e",
   "metadata": {},
   "outputs": [
    {
     "name": "stderr",
     "output_type": "stream",
     "text": [
      "WARNING:pypsa.io:Importing network from PyPSA version v0.25.2 while current version is v0.26.0. Read the release notes at https://pypsa.readthedocs.io/en/latest/release_notes.html to prepare your network for import.\n",
      "INFO:pypsa.io:Imported network elec_s_37_ec_lv1.25_Co2L0-2H-EQ0.8c-onwind+c0.5-MDES+c5-mdes+c11-mdes+e0.7.nc has buses, carriers, generators, global_constraints, lines, links, loads, storage_units, stores\n",
      "WARNING:pypsa.io:Importing network from PyPSA version v0.25.2 while current version is v0.26.0. Read the release notes at https://pypsa.readthedocs.io/en/latest/release_notes.html to prepare your network for import.\n",
      "INFO:pypsa.io:Imported network elec_s_37_ec_lv1.25_Co2L0-2H-EQ0.8c-onwind+c0.75-MDES+c5-mdes+c11-mdes+e0.7.nc has buses, carriers, generators, global_constraints, lines, links, loads, storage_units, stores\n",
      "WARNING:pypsa.io:Importing network from PyPSA version v0.25.2 while current version is v0.26.0. Read the release notes at https://pypsa.readthedocs.io/en/latest/release_notes.html to prepare your network for import.\n",
      "INFO:pypsa.io:Imported network elec_s_37_ec_lv1.25_Co2L0-2H-EQ0.8c-onwind+c1-MDES+c5-mdes+c11-mdes+e0.7.nc has buses, carriers, generators, global_constraints, lines, links, loads, storage_units, stores\n",
      "WARNING:pypsa.io:Importing network from PyPSA version v0.25.2 while current version is v0.26.0. Read the release notes at https://pypsa.readthedocs.io/en/latest/release_notes.html to prepare your network for import.\n",
      "INFO:pypsa.io:Imported network elec_s_37_ec_lv1.25_Co2L0-2H-EQ0.8c-onwind+c1.25-MDES+c5-mdes+c11-mdes+e0.7.nc has buses, carriers, generators, global_constraints, lines, links, loads, storage_units, stores\n",
      "WARNING:pypsa.io:Importing network from PyPSA version v0.25.2 while current version is v0.26.0. Read the release notes at https://pypsa.readthedocs.io/en/latest/release_notes.html to prepare your network for import.\n",
      "INFO:pypsa.io:Imported network elec_s_37_ec_lv1.25_Co2L0-2H-EQ0.8c-onwind+c1.5-MDES+c5-mdes+c11-mdes+e0.7.nc has buses, carriers, generators, global_constraints, lines, links, loads, storage_units, stores\n"
     ]
    }
   ],
   "source": [
    "n_50 = pypsa.Network(\"sensitivity_3/elec_s_37_ec_lv1.25_Co2L0-2H-EQ0.8c-onwind+c0.5-MDES+c5-mdes+c11-mdes+e0.7.nc\")\n",
    "n_75 = pypsa.Network(\"sensitivity_3/elec_s_37_ec_lv1.25_Co2L0-2H-EQ0.8c-onwind+c0.75-MDES+c5-mdes+c11-mdes+e0.7.nc\")\n",
    "n_100 = pypsa.Network(\"sensitivity_3/elec_s_37_ec_lv1.25_Co2L0-2H-EQ0.8c-onwind+c1-MDES+c5-mdes+c11-mdes+e0.7.nc\")\n",
    "n_125 = pypsa.Network(\"sensitivity_3/elec_s_37_ec_lv1.25_Co2L0-2H-EQ0.8c-onwind+c1.25-MDES+c5-mdes+c11-mdes+e0.7.nc\")\n",
    "n_150 = pypsa.Network(\"sensitivity_3/elec_s_37_ec_lv1.25_Co2L0-2H-EQ0.8c-onwind+c1.5-MDES+c5-mdes+c11-mdes+e0.7.nc\")"
   ]
  },
  {
   "cell_type": "code",
   "execution_count": 69,
   "id": "bcb826de",
   "metadata": {},
   "outputs": [],
   "source": [
    "e_50 = n_50.stores.groupby(\"carrier\").e_nom_opt.sum()\n",
    "e_75 = n_75.stores.groupby(\"carrier\").e_nom_opt.sum()\n",
    "e_100 = n_100.stores.groupby(\"carrier\").e_nom_opt.sum()\n",
    "e_125 = n_125.stores.groupby(\"carrier\").e_nom_opt.sum()\n",
    "e_150 = n_150.stores.groupby(\"carrier\").e_nom_opt.sum()"
   ]
  },
  {
   "cell_type": "code",
   "execution_count": 70,
   "id": "4310347f",
   "metadata": {},
   "outputs": [],
   "source": [
    "demand = pd.concat([e_50, e_75, e_100, e_125, e_150], axis=1)\n",
    "demand.columns = [50, 75, 100, 125, 150]"
   ]
  },
  {
   "cell_type": "code",
   "execution_count": 71,
   "id": "6b87c1f1",
   "metadata": {},
   "outputs": [
    {
     "data": {
      "text/html": [
       "<div>\n",
       "<style scoped>\n",
       "    .dataframe tbody tr th:only-of-type {\n",
       "        vertical-align: middle;\n",
       "    }\n",
       "\n",
       "    .dataframe tbody tr th {\n",
       "        vertical-align: top;\n",
       "    }\n",
       "\n",
       "    .dataframe thead th {\n",
       "        text-align: right;\n",
       "    }\n",
       "</style>\n",
       "<table border=\"1\" class=\"dataframe\">\n",
       "  <thead>\n",
       "    <tr style=\"text-align: right;\">\n",
       "      <th></th>\n",
       "      <th>50</th>\n",
       "      <th>75</th>\n",
       "      <th>100</th>\n",
       "      <th>125</th>\n",
       "      <th>150</th>\n",
       "    </tr>\n",
       "    <tr>\n",
       "      <th>carrier</th>\n",
       "      <th></th>\n",
       "      <th></th>\n",
       "      <th></th>\n",
       "      <th></th>\n",
       "      <th></th>\n",
       "    </tr>\n",
       "  </thead>\n",
       "  <tbody>\n",
       "    <tr>\n",
       "      <th>H2</th>\n",
       "      <td>2.664136e+02</td>\n",
       "      <td>1.334312e+07</td>\n",
       "      <td>4.767164e+07</td>\n",
       "      <td>6.308384e+07</td>\n",
       "      <td>6.884287e+07</td>\n",
       "    </tr>\n",
       "    <tr>\n",
       "      <th>MDES</th>\n",
       "      <td>1.748623e+07</td>\n",
       "      <td>1.805315e+07</td>\n",
       "      <td>1.474210e+07</td>\n",
       "      <td>1.199123e+07</td>\n",
       "      <td>1.186655e+07</td>\n",
       "    </tr>\n",
       "    <tr>\n",
       "      <th>battery</th>\n",
       "      <td>5.857984e+05</td>\n",
       "      <td>6.733058e+05</td>\n",
       "      <td>9.580506e+05</td>\n",
       "      <td>1.199584e+06</td>\n",
       "      <td>1.306648e+06</td>\n",
       "    </tr>\n",
       "  </tbody>\n",
       "</table>\n",
       "</div>"
      ],
      "text/plain": [
       "                  50            75            100           125           150\n",
       "carrier                                                                      \n",
       "H2       2.664136e+02  1.334312e+07  4.767164e+07  6.308384e+07  6.884287e+07\n",
       "MDES     1.748623e+07  1.805315e+07  1.474210e+07  1.199123e+07  1.186655e+07\n",
       "battery  5.857984e+05  6.733058e+05  9.580506e+05  1.199584e+06  1.306648e+06"
      ]
     },
     "execution_count": 71,
     "metadata": {},
     "output_type": "execute_result"
    }
   ],
   "source": [
    "demand"
   ]
  },
  {
   "cell_type": "code",
   "execution_count": 72,
   "id": "f656be95",
   "metadata": {},
   "outputs": [
    {
     "data": {
      "text/plain": [
       "carrier\n",
       "biomass        13589.758450\n",
       "geothermal       766.000000\n",
       "nuclear       100037.900000\n",
       "offwind-ac      9571.097525\n",
       "offwind-dc     15421.888637\n",
       "onwind        896355.574339\n",
       "ror            42522.648833\n",
       "solar         484396.077011\n",
       "Name: p_nom_opt, dtype: float64"
      ]
     },
     "execution_count": 72,
     "metadata": {},
     "output_type": "execute_result"
    }
   ],
   "source": [
    "n_50.generators.groupby(n_50.generators.carrier).p_nom_opt.sum()"
   ]
  },
  {
   "cell_type": "code",
   "execution_count": 73,
   "id": "55971422",
   "metadata": {},
   "outputs": [
    {
     "data": {
      "text/plain": [
       "carrier\n",
       "biomass       1.358976e+04\n",
       "geothermal    7.660000e+02\n",
       "nuclear       1.000379e+05\n",
       "offwind-ac    4.924662e+04\n",
       "offwind-dc    4.324817e+04\n",
       "onwind        2.724698e+05\n",
       "ror           4.252265e+04\n",
       "solar         1.264631e+06\n",
       "Name: p_nom_opt, dtype: float64"
      ]
     },
     "execution_count": 73,
     "metadata": {},
     "output_type": "execute_result"
    }
   ],
   "source": [
    "n_150.generators.groupby(n_50.generators.carrier).p_nom_opt.sum()"
   ]
  },
  {
   "cell_type": "code",
   "execution_count": 75,
   "id": "4768ca7f",
   "metadata": {},
   "outputs": [
    {
     "data": {
      "image/png": "[encoded data removed]",
      "text/plain": [
       "<Figure size 700x400 with 1 Axes>"
      ]
     },
     "metadata": {},
     "output_type": "display_data"
    }
   ],
   "source": [
    "fig, ax = plt.subplots(figsize=(7,4))\n",
    "fig.patch.set_facecolor('white')\n",
    "ax.set_facecolor('white')\n",
    "demand.div(1e6).T.plot.area(\n",
    "    ax=ax,\n",
    "    stacked=True,\n",
    "    linewidth=0,\n",
    "    color=demand.index.map(n_50.carriers.color),\n",
    "    xlabel=\"percentage of capital cost of onshore wind [%]\",\n",
    "    ylabel=\"total storage capacity [TWh]\",\n",
    "    xlim=(50,150))\n",
    "\n",
    "ax.set_xticks(range(50, 151, 25))\n",
    "ax.set_ylim(bottom=-0.5)\n",
    "plt.legend(frameon=False)\n",
    "plt.tight_layout()\n",
    "plt.savefig(\"sensitivity3.pdf\",dpi=750)\n",
    "plt.show()"
   ]
  },
  {
   "cell_type": "code",
   "execution_count": 76,
   "id": "8e8607e1",
   "metadata": {},
   "outputs": [
    {
     "data": {
      "text/plain": [
       "Generator\n",
       "AL1 0 onwind    88974.573629\n",
       "AT1 0 onwind    88974.573629\n",
       "BA1 0 onwind    88974.573629\n",
       "BE1 0 onwind    88974.573629\n",
       "BG1 0 onwind    88974.573629\n",
       "CH1 0 onwind    88974.573629\n",
       "CZ1 0 onwind    88974.573629\n",
       "DE1 0 onwind    88974.573629\n",
       "DK1 0 onwind    88974.573629\n",
       "DK2 0 onwind    88974.573629\n",
       "EE6 0 onwind    88974.573629\n",
       "ES1 0 onwind    88974.573629\n",
       "ES4 0 onwind    88974.573629\n",
       "FI2 0 onwind    88974.573629\n",
       "FR1 0 onwind    88974.573629\n",
       "GB0 0 onwind    88974.573629\n",
       "GB5 0 onwind    88974.573629\n",
       "GR1 0 onwind    88974.573629\n",
       "HR1 0 onwind    88974.573629\n",
       "HU1 0 onwind    88974.573629\n",
       "IE5 0 onwind    88974.573629\n",
       "IT1 0 onwind    88974.573629\n",
       "IT3 0 onwind    88974.573629\n",
       "LT6 0 onwind    88974.573629\n",
       "LU1 0 onwind    88974.573629\n",
       "LV6 0 onwind    88974.573629\n",
       "ME1 0 onwind    88974.573629\n",
       "MK1 0 onwind    88974.573629\n",
       "NL1 0 onwind    88974.573629\n",
       "NO2 0 onwind    88974.573629\n",
       "PL1 0 onwind    88974.573629\n",
       "PT1 0 onwind    88974.573629\n",
       "RO1 0 onwind    88974.573629\n",
       "RS1 0 onwind    88974.573629\n",
       "SE2 0 onwind    88974.573629\n",
       "SI1 0 onwind    88974.573629\n",
       "SK1 0 onwind    88974.573629\n",
       "Name: capital_cost, dtype: float64"
      ]
     },
     "execution_count": 76,
     "metadata": {},
     "output_type": "execute_result"
    }
   ],
   "source": [
    "n_100.generators.capital_cost[n_100.generators.capital_cost.index.str.contains(\"onwind\")]"
   ]
  },
  {
   "cell_type": "code",
   "execution_count": null,
   "id": "3f173cae",
   "metadata": {},
   "outputs": [],
   "source": []
  }
 ],
 "metadata": {
  "kernelspec": {
   "display_name": "Python 3 (ipykernel)",
   "language": "python",
   "name": "python3"
  },
  "language_info": {
   "codemirror_mode": {
    "name": "ipython",
    "version": 3
   },
   "file_extension": ".py",
   "mimetype": "text/x-python",
   "name": "python",
   "nbconvert_exporter": "python",
   "pygments_lexer": "ipython3",
   "version": "3.11.3"
  }
 },
 "nbformat": 4,
 "nbformat_minor": 5
}
